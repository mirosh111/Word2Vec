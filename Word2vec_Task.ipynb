{
 "cells": [
  {
   "cell_type": "markdown",
   "metadata": {},
   "source": [
    "# Skip-gram Word2Vec\n",
    "\n",
    "\n",
    "\n",
    "## Readings and References\n",
    "\n",
    "\n",
    "\n",
    "* [Skip-gram tutorial](http://mccormickml.com/2016/04/19/word2vec-tutorial-the-skip-gram-model/) from Chris McCormick \n",
    "* [Word2Vec paper](https://arxiv.org/pdf/1301.3781.pdf) from Mikolov et al.\n",
    "* [Neural Information Processing Systems, paper](http://papers.nips.cc/paper/5021-distributed-representations-of-words-and-phrases-and-their-compositionality.pdf) with improvements for Word2Vec also from Mikolov et al.\n",
    "* A lot of material was taken from [Udacity](http://udacity.com/) Deep Learning Course \n",
    "* [Taiga corpus](https://tatianashavrina.github.io/taiga_site/downloads) was used for training\n",
    "---\n",
    "## Word embeddings\n",
    "\n",
    "When you're dealing with words in text, you end up with tens of thousands of word classes to analyze; one for each word in a vocabulary. Trying to one-hot encode these words is massively inefficient because most values in a one-hot vector will be set to zero. So, the matrix multiplication that happens in between a one-hot input vector and a first, hidden layer will result in mostly zero-valued hidden outputs.\n",
    "\n",
    "To solve this problem and greatly increase the efficiency of our networks, we use what are called **embeddings**. Embeddings are just a fully connected layer like you've seen before. We call this layer the embedding layer and the weights are embedding weights. We skip the multiplication into the embedding layer by instead directly grabbing the hidden layer values from the weight matrix. We can do this because the multiplication of a one-hot encoded vector with a matrix returns the row of the matrix corresponding the index of the \"on\" input unit.\n",
    "\n",
    "Instead of doing the matrix multiplication, we use the weight matrix as a lookup table. We encode the words as integers, for example \"heart\" is encoded as 958, \"mind\" as 18094. Then to get hidden layer values for \"heart\", you just take the 958th row of the embedding matrix. This process is called an **embedding lookup** and the number of hidden units is the **embedding dimension**.\n",
    " \n",
    "There is nothing magical going on here. The embedding lookup table is just a weight matrix. The embedding layer is just a hidden layer. The lookup is just a shortcut for the matrix multiplication. The lookup table is trained just like any weight matrix.\n",
    "\n",
    "Embeddings aren't only used for words of course. You can use them for any model where you have a massive number of classes. A particular type of model called **Word2Vec** uses the embedding layer to find vector representations of words that contain semantic meaning."
   ]
  },
  {
   "cell_type": "markdown",
   "metadata": {},
   "source": [
    "---\n",
    "## Word2Vec\n",
    "\n",
    "The Word2Vec algorithm finds much more efficient representations by finding vectors that represent the words. These vectors also contain semantic information about the words.\n",
    "\n",
    "There are two architectures for implementing Word2Vec:\n",
    ">* CBOW (Continuous Bag-Of-Words) and \n",
    "* Skip-gram\n",
    "\n",
    "<img src=\"Images/word2vec_architectures.jpg\" width=60%>\n",
    "\n",
    "We'll be using the **skip-gram architecture** with **negative sampling** because it performs better than CBOW and trains faster with negative sampling."
   ]
  },
  {
   "cell_type": "markdown",
   "metadata": {},
   "source": [
    "---\n",
    "## Loading Data\n",
    "\n"
   ]
  },
  {
   "cell_type": "code",
   "execution_count": 80,
   "metadata": {},
   "outputs": [
    {
     "name": "stdout",
     "output_type": "stream",
     "text": [
      "\n",
      "\n",
      "В первые три дня 2017 года в Тверской области в пожарах погибли несколько человек. Сейчас, когда у\n"
     ]
    }
   ],
   "source": [
    "import os\n",
    "\n",
    "text = ''\n",
    "for f in os.listdir('Data/news/KP/texts/'):\n",
    "    txt = open('Data/news/KP/texts/' + f).read()\n",
    "    text += txt \n",
    "\n",
    "print(text[:100])"
   ]
  },
  {
   "cell_type": "markdown",
   "metadata": {},
   "source": [
    "## Pre-processing\n",
    "\n",
    "The `preprocess` function from `utils.py` file does does pre-processing of our data:\n",
    ">* It converts any punctuation into tokens. For example, `<COMMA>`. \n",
    "* It removes all words that show up five or fewer times in the dataset. This will greatly reduce issues due to noise in the data and improve the quality of the vector representations. \n",
    "* It returns a list of words in the text.\n"
   ]
  },
  {
   "cell_type": "code",
   "execution_count": 82,
   "metadata": {},
   "outputs": [
    {
     "name": "stdout",
     "output_type": "stream",
     "text": [
      "['в', 'один', 'три', 'день', '2017', 'год', 'в', 'тверская', 'область', 'в', 'пожар', 'погибнуть', 'несколько', 'человек', '<period>', 'сейчас', '<comma>', 'когда', 'ударить', 'аномальный', 'мороз', '<comma>', 'вероятность', 'возгорание', 'только', 'возрасти', '<period>', 'главный', 'мчс', 'россия']\n"
     ]
    }
   ],
   "source": [
    "import utils\n",
    "import numpy as np\n",
    "\n",
    "# getting list of words\n",
    "words = utils.preprocess(text,big=True)\n",
    "print(words[:30])"
   ]
  },
  {
   "cell_type": "code",
   "execution_count": 577,
   "metadata": {},
   "outputs": [],
   "source": [
    "import json\n",
    "\n",
    "with open('words.txt', 'w') as f:\n",
    "    json.dump(words, f)"
   ]
  },
  {
   "cell_type": "code",
   "execution_count": 83,
   "metadata": {},
   "outputs": [
    {
     "name": "stdout",
     "output_type": "stream",
     "text": [
      "Total words in text: 7745131\n",
      "Unique words: 29173\n"
     ]
    }
   ],
   "source": [
    "# printing some stats about this word data\n",
    "print(\"Total words in text: {}\".format(len(words)))\n",
    "print(\"Unique words: {}\".format(len(set(words)))) # `set` removes any duplicate words"
   ]
  },
  {
   "cell_type": "code",
   "execution_count": 594,
   "metadata": {},
   "outputs": [
    {
     "name": "stdout",
     "output_type": "stream",
     "text": [
      "[3, 38, 120, 75, 155, 20, 3, 843, 30, 3, 147, 199, 175, 43, 1, 135, 2, 190, 1022, 4082, 291, 2, 4138, 717, 131, 4700, 1, 275, 163, 55]\n"
     ]
    }
   ],
   "source": [
    "import utils\n",
    "# creating two dictionaries to convert words to integers and back again\n",
    "vocab_to_int, int_to_vocab = utils.create_lookup_tables(words)\n",
    "# storing all integer words in list\n",
    "int_words = [vocab_to_int[word] for word in words]\n",
    "\n",
    "print(int_words[:30])"
   ]
  },
  {
   "cell_type": "markdown",
   "metadata": {},
   "source": [
    "## Subsampling\n",
    "\n",
    "Words that show up often don't provide much context to the nearby words. If we discard some of them, we can remove some of the noise from our data and in return get faster training and better representations. This process is called subsampling by Mikolov. For each word $w_i$ in the training set, we'll discard it with probability given by \n",
    "\n",
    "$$ P(w_i) = 1 - \\sqrt{\\frac{t}{f(w_i)}} $$\n",
    "\n",
    "where $t$ is a threshold parameter and $f(w_i)$ is the frequency of word $w_i$ in the total dataset.\n"
   ]
  },
  {
   "cell_type": "code",
   "execution_count": 87,
   "metadata": {},
   "outputs": [
    {
     "name": "stdout",
     "output_type": "stream",
     "text": [
      "7745131\n",
      "29173\n",
      "3668394\n"
     ]
    }
   ],
   "source": [
    "from collections import Counter\n",
    "import random\n",
    "import numpy as np\n",
    "from tqdm import tqdm_notebook\n",
    "\n",
    "threshold = 1e-5\n",
    "word_counts = Counter(int_words)\n",
    "\n",
    "total_count = len(int_words)\n",
    "freqs = {word: count/total_count for word, count in word_counts.items()}\n",
    "p_drop = {word: 1 - np.sqrt(threshold/freqs[word]) for word in word_counts}\n",
    "# discarding some frequent words, according to the subsampling equation\n",
    "# removing words with drop probability greater than 0.9\n",
    "# creating a new list of words for training\n",
    "train_words = [word for word in int_words if p_drop[word] < 0.9]\n",
    "\n",
    "\n",
    "print(len(int_words))\n",
    "print(len(p_drop))\n",
    "print(len(train_words))"
   ]
  },
  {
   "cell_type": "markdown",
   "metadata": {},
   "source": [
    "## Making batches"
   ]
  },
  {
   "cell_type": "markdown",
   "metadata": {},
   "source": [
    "Now that our data is in good shape, we need to get it into the proper form to pass it into our network. With the skip-gram architecture, for each word in the text, we want to define a surrounding _context_ and grab all the words in a window around that word, with size $C$. \n",
    "\n",
    "From [Mikolov et al.](https://arxiv.org/pdf/1301.3781.pdf): \n",
    "\n",
    "\"Since the more distant words are usually less related to the current word than those close to it, we give less weight to the distant words by sampling less from those words in our training examples... If we choose $C = 5$, for each training word we will select randomly a number $R$ in range $[ 1: C ]$, and then use $R$ words from history and $R$ words from the future of the current word as correct labels.\"\n",
    "\n",
    "So, we're creating function `get_target`."
   ]
  },
  {
   "cell_type": "code",
   "execution_count": 89,
   "metadata": {},
   "outputs": [],
   "source": [
    "def get_target(words, idx, window_size=5):\n",
    "    ''' Get a list of words in a window around an index. '''\n",
    "    \n",
    "    R = np.random.randint(1, window_size+1)\n",
    "    start = idx - R if (idx - R) > 0 else 0\n",
    "    stop = idx + R\n",
    "    target_words = words[start:idx] + words[idx+1:stop+1]\n",
    "    \n",
    "    return list(target_words)"
   ]
  },
  {
   "cell_type": "markdown",
   "metadata": {},
   "source": [
    "### Generating Batches \n",
    "\n",
    "Here's a generator function that returns batches of input and target data for our model, using the `get_target` function from above. The idea is that it grabs `batch_size` words from a words list. Then for each of those batches, it gets the target words in a window."
   ]
  },
  {
   "cell_type": "code",
   "execution_count": 91,
   "metadata": {},
   "outputs": [],
   "source": [
    "def get_batches(words, batch_size, window_size=5):\n",
    "    ''' Create a generator of word batches as a tuple (inputs, targets) '''\n",
    "    \n",
    "    n_batches = len(words)//batch_size\n",
    "    \n",
    "    # only full batches\n",
    "    words = words[:n_batches*batch_size]\n",
    "\n",
    "    for idx in range(0, len(words), batch_size):\n",
    "        x, y = [], []\n",
    "        batch = words[idx:idx+batch_size]\n",
    "        for ii in range(len(batch)):\n",
    "            batch_x = batch[ii]\n",
    "            batch_y = get_target(batch, ii, window_size)\n",
    "            y.extend(batch_y)\n",
    "            x.extend([batch_x]*len(batch_y))\n",
    "        yield x, y\n",
    "    "
   ]
  },
  {
   "cell_type": "markdown",
   "metadata": {},
   "source": [
    "---\n",
    "## Validation\n",
    "\n",
    "This function will help us observe our model as it learns. We're going to choose a few common words and few uncommon words. Then, we'll print out the closest words to them using the cosine similarity: \n",
    "\n",
    "$$\n",
    "\\mathrm{similarity} = \\cos(\\theta) = \\frac{\\vec{a} \\cdot \\vec{b}}{|\\vec{a}||\\vec{b}|}\n",
    "$$\n",
    "\n",
    "\n",
    "We can encode the validation words as vectors $\\vec{a}$ using the embedding table, then calculate the similarity with each word vector $\\vec{b}$ in the embedding table. With the similarities, we can print out the validation words and words in our embedding table semantically similar to those words. It's a nice way to check that our embedding table is grouping together words with similar semantic meanings."
   ]
  },
  {
   "cell_type": "code",
   "execution_count": 93,
   "metadata": {},
   "outputs": [],
   "source": [
    "def cosine_similarity(embedding, valid_size=16, valid_window=100, device='cpu'):\n",
    "    \"\"\" Returns the cosine similarity of validation words with words in the embedding matrix.\n",
    "        Here, embedding should be a PyTorch embedding module.\n",
    "    \"\"\"\n",
    "    \n",
    "    # Here we're calculating the cosine similarity between some random words and \n",
    "    # our embedding vectors. With the similarities, we can look at what words are\n",
    "    # close to our random words.\n",
    "    \n",
    "    # sim = (a . b) / |a||b|\n",
    "    \n",
    "    embed_vectors = embedding.weight\n",
    "    \n",
    "    # magnitude of embedding vectors, |b|\n",
    "    magnitudes = embed_vectors.pow(2).sum(dim=1).sqrt().unsqueeze(0)\n",
    "    \n",
    "    # pick N words from our ranges (0,window) and (1000,1000+window). lower id implies more frequent \n",
    "    valid_examples = np.array(random.sample(range(valid_window), valid_size//2))\n",
    "    valid_examples = np.append(valid_examples,\n",
    "                               random.sample(range(1000,1000+valid_window), valid_size//2))\n",
    "    valid_examples = torch.LongTensor(valid_examples).to(device)\n",
    "    \n",
    "    valid_vectors = embedding(valid_examples)\n",
    "    similarities = torch.mm(valid_vectors, embed_vectors.t())/magnitudes\n",
    "        \n",
    "    return valid_examples, similarities"
   ]
  },
  {
   "cell_type": "markdown",
   "metadata": {},
   "source": [
    "---\n",
    "# SkipGram model\n",
    "\n",
    "An Embedding layer takes in a number of inputs, importantly:\n",
    "* **num_embeddings** – the size of the dictionary of embeddings, or how many rows you'll want in the embedding weight matrix\n",
    "* **embedding_dim** – the size of each embedding vector; the embedding dimension\n",
    "\n",
    "Below is an approximate diagram of the general structure of our network.\n",
    "<img src=\"Images/skip_gram_arch.jpg\" width=60%>\n",
    "\n",
    ">* The input words are passed in as batches of input word tokens. \n",
    "* This will go into a hidden layer of linear units (our embedding layer). \n",
    "* Then, finally into a softmax output layer. \n",
    "\n",
    "We'll use the softmax layer to make a prediction about the context words by sampling."
   ]
  },
  {
   "cell_type": "markdown",
   "metadata": {},
   "source": [
    "---\n",
    "## Negative Sampling\n",
    "\n",
    "For every example we give the network, we train it using the output from the softmax layer. That means for each input, we're making very small changes to millions of weights even though we only have one true example. This makes training the network very inefficient. We can approximate the loss from the softmax layer by only updating a small subset of all the weights at once. We'll update the weights for the correct example, but only a small number of incorrect, or noise, examples.\n",
    "\n",
    "There are two modifications we need to make. First, since we're not taking the softmax output over all the words, we're really only concerned with one output word at a time. Similar to how we use an embedding table to map the input word to the hidden layer, we can now use another embedding table to map the hidden layer to the output word. Now we have two embedding layers, one for input words and one for output words. Secondly, we use a modified loss function where we only care about the true example and a small subset of noise examples.\n",
    "\n",
    "$$\n",
    "- \\large \\log{\\sigma\\left(u_{w_O}\\hspace{0.001em}^\\top v_{w_I}\\right)} -\n",
    "\\sum_i^N \\mathbb{E}_{w_i \\sim P_n(w)}\\log{\\sigma\\left(-u_{w_i}\\hspace{0.001em}^\\top v_{w_I}\\right)}\n",
    "$$\n",
    "\n",
    "First of all, $u_{w_O}\\hspace{0.001em}^\\top$ is the embedding vector for our \"output\" target word (transposed, that's the $^\\top$ symbol) and $v_{w_I}$ is the embedding vector for the \"input\" word. Then the first term \n",
    "\n",
    "$$\\large \\log{\\sigma\\left(u_{w_O}\\hspace{0.001em}^\\top v_{w_I}\\right)}$$\n",
    "\n",
    "says we take the log-sigmoid of the inner product of the output word vector and the input word vector. Now the second term, let's first look at \n",
    "\n",
    "$$\\large \\sum_i^N \\mathbb{E}_{w_i \\sim P_n(w)}$$ \n",
    "\n",
    "This means we're going to take a sum over words $w_i$ drawn from a noise distribution $w_i \\sim P_n(w)$. The noise distribution is basically our vocabulary of words that aren't in the context of our input word. In effect, we can randomly sample words from our vocabulary to get these words. $P_n(w)$ is an arbitrary probability distribution though, which means we get to decide how to weight the words that we're sampling. This could be a uniform distribution, where we sample all words with equal probability. Or it could be according to the frequency that each word shows up in our text corpus, the unigram distribution $U(w)$. The authors found the best distribution to be $U(w)^{3/4}$, empirically. \n",
    "\n",
    "Finally, in \n",
    "\n",
    "$$\\large \\log{\\sigma\\left(-u_{w_i}\\hspace{0.001em}^\\top v_{w_I}\\right)},$$ \n",
    "\n",
    "we take the log-sigmoid of the negated inner product of a noise vector with the input vector. \n",
    "\n",
    "\n",
    "The sigmoid function returns a probability between 0 and 1. The first term in the loss pushes the probability that our network will predict the correct word $w_O$ towards 1. In the second term, since we are negating the sigmoid input, we're pushing the probabilities of the noise words towards 0."
   ]
  },
  {
   "cell_type": "markdown",
   "metadata": {},
   "source": [
    "### Training\n"
   ]
  },
  {
   "cell_type": "code",
   "execution_count": 94,
   "metadata": {},
   "outputs": [],
   "source": [
    "import torch\n",
    "from torch import nn\n",
    "import torch.optim as optim"
   ]
  },
  {
   "cell_type": "code",
   "execution_count": 97,
   "metadata": {
    "scrolled": true
   },
   "outputs": [
    {
     "name": "stdout",
     "output_type": "stream",
     "text": [
      "Epoch: 1/5\n",
      "Loss:  4.0503644943237305\n",
      "который | кс, депортация, патрулировать, цирк-шапито, 720\n",
      "о | автоматический, «2017, взламывать, давао, станок\n",
      "и | аниме, бойко, фонтанка, недовольный, «локомотив-кубань»\n",
      "январь | разврат, абрам, «кп-ульяновск», известный, телицин\n",
      "улица | «правоохранительный, газовик, гречка, досадный, sberbank\n",
      "рассказать | «заминировал», «ямал», йогурт, balkans, объём\n",
      "они | сумерки, соперничество, влажность, ванино, островной\n",
      "- | «ростов», «глава, проезжать, «ржд», результативность\n",
      "килограмм | уход, переподготовка, составлять, ооо, повод\n",
      "крыша | максимальный, знак, фронт, мимо, мочь\n",
      "устанавливаться | сотрудник, наступление, «вконтакте», злоумышленник, самарский\n",
      "приём | пациент, необходимый, показание, процент, оказывать\n",
      "говориться | подать, шить, сей, оперативный, «твиттере»\n",
      "привести | неисправность, 5, из-за, энергия, mp4\n",
      "56 | угроза, 72-летний, вылет, предаваться, главное\n",
      "игорь | забрать, смена, фольклорный, автомобилист, миссия\n",
      "...\n",
      "\n",
      "Epoch: 1/5\n",
      "Loss:  3.1924006938934326\n",
      "ребёнок | тель-авив, поприще, компромиссный, фотограф, вахитовский\n",
      "январь | разврат, абрам, опрокидывание, телицин, консультативно-диагностический\n",
      "что | выплачивать, 1995, 490, ермишинский, 340\n",
      "http | водопроводный, возникнуть, отток, 20-25, 200»\n",
      "также | нак, 18-летний, «крылышки», картер, крае»\n",
      "один | обогреваться, аналог, предприимчивый, выемка, происшествия>чп\n",
      "водитель | красно-зелёный, какой-нибудь, игривый, нервный, двойня\n",
      "00+03 | торжество, монсон, послевоенный, гинекологический, краснопартизанский\n",
      "изменение | новый, трамп, кроме, должный, устанавливать\n",
      "плата | вперёд, «новый, февраль, сумма, бедный\n",
      "открытие | 20, состояться, грубый, страна, 13\n",
      "собака | местный, где, задержать, ангел, пострадавший\n",
      "тоже | сделать, только, когда, приехать, такой\n",
      "twitter | состояться, заявить, facebook, ранее, социальный\n",
      "выступить | центр, молдова, администрация, отметить, выставка\n",
      "поделиться | молодёжный, наш, мы, самописец, задавать\n",
      "...\n",
      "\n",
      "Epoch: 1/5\n",
      "Loss:  2.530147075653076\n",
      "kp | астраханский, отличиться, ежеквартально, 5-0, посуда\n",
      "время | башкирия, семиохина, лев-толстовский, николаев, twitter\n",
      "от | неклиновский, свинья, пополнение, 18%, снегоуборочный\n",
      "улица | «правоохранительный, газовик, немного, поимка, 26-ть\n",
      "не | жунус, бессонов, «досье», быковский, свечение\n",
      "работа | «возможный, 224, хатанга, слышный, вахтовик\n",
      "свой | инаугурационный, гид, «с, «трезвый, экс-полицейский\n",
      "материал | тема, «одноклассниках», «твиттере», «фейсбуке», новость\n",
      "точка | магазин, всего, крупный, случай, оперативник\n",
      "изменение | должный, решение, направить, закон, требование\n",
      "открытие | состояться, глава, российский, владимир, сегодня\n",
      "тасс | заявить, напомнить, слово, ранее, президент\n",
      "менее | более, всего, миллион, лицо, зарплата\n",
      "родственник | себя, женщина, оказаться, молодая, хозяин\n",
      "perm | «татьянина, «киномакс», перенестись, обчищать, vortex\n",
      "ничто | там, украсть, сам, оставить, женщина\n",
      "...\n",
      "\n",
      "Epoch: 1/5\n",
      "Loss:  2.6567344665527344\n",
      "тысяча | м/секунда, оседать, дебошир, выкуп, характера»\n",
      "большой | вороненков, улов, упростить, ктв-луч, агрогородок\n",
      "о | «2017, дипведомство, дуда, предприниматель, конституция\n",
      "рассказать | «ямал», «заминировал», объём, телесный, скоропортящийся\n",
      "в | несовершеннолетних», бодрящий, перепись, смягчение, алябьевский\n",
      "для | поздеев, очаровать, эвелина, рубка, горисполком\n",
      "на | вывесить, птица», знаменательный, «макдональдс», «nissan\n",
      "<left_paren> | «мармакс», непредвиденный, маммография, -рассказать, нью-йоркский\n",
      "yamal | 19, ямал, 04, 37, 36\n",
      "деревня | сель, посёлок, оказаться, столкнуться, несколько\n",
      "народный | музей, художественный, выставка, артист, фильм\n",
      "ленин | проспект, площадь, ул, перекрёсток, движение\n",
      "500 | миллион, 100, размер, более, сумма\n",
      "менее | тем, сейчас, более, чем, то\n",
      "facebook | сеть, twitter, появиться, соцсеть, страница\n",
      "особый | организация, важный, внимание, приложить, обеспечение\n",
      "...\n",
      "\n",
      "Epoch: 2/5\n",
      "Loss:  2.1449532508850098\n",
      "от | пополнение, снегоуборочный, неклиновский, свинья, 18%\n",
      "район | повторить, растопить, посвящать, зачастую, предписывать\n",
      "дом | «просто, ошибкой», заметать, белово, северск\n",
      "о | «2017, регулирование, дипведомство, дуда, добыть\n",
      "до | ком, датский, пульт, игил*, военно-технический\n",
      "– | таблица, выдвигаться, осветительный, сковываться, видение\n",
      "11 | елка», сердечно, mare, порту, невредимый\n",
      "большой | улов, вороненков, стоялый, упростить, кюстендил\n",
      "тасс | напомнить, передавать, ранее, источник, заявить\n",
      "perm | ufa, 17, vrn, происшествия>чп, 18\n",
      "сентябрь | ноябрь, 2016, октябрь, прошлое, 2015\n",
      "игорь | глава, александр, владимир, губернатор, министр\n",
      "привести | причина, из-за, такой, ветер, опасный\n",
      "точка | спиртосодержащий, торговать, продажа, магазин, торговля\n",
      "билет | стоимость, можно, программа, маршрут, февраль\n",
      "розыск | задержать, подозревать, полицейский, правоохранитель, кража\n",
      "...\n",
      "\n",
      "Epoch: 2/5\n",
      "Loss:  2.026014566421509\n",
      "общество>общество | свидание, красносельский, хлеб, равнозначный, сазонов\n",
      "www | оригинально, контратака, алан, билетик, керн\n",
      "от | пополнение, неклиновский, 18%, групп», балашов\n",
      "http | 200», повернуться, отток, фокинский, «курск\n",
      "этот | луч, заозёрный, хэтчбек, здоровье>красота, голуба\n",
      "после | стабильный, незаметный, терешков, прозвище, «шестерку»\n",
      "город | поехать, бутома», разбиться, молчание, я\n",
      "для | поздеев, эвелина, авиация, очаровать, горисполком\n",
      "десять | шесть, пять, девять, восемь, три\n",
      "много | мы, я, то, всегда, очень\n",
      "тоже | то, друг, же, очень, вот\n",
      "правоохранительный | орган, полицейский, правоохранитель, сотрудник, расследование\n",
      "ранний | неделя, школа, поздний, пятница, 13\n",
      "оперативный | сотрудник, служба, дежурный, ведомство, подразделение\n",
      "девять | восемь, десять, три, семь, пять\n",
      "тасс | риа, передавать, напомнить, сми, заявить\n",
      "...\n",
      "\n",
      "Epoch: 2/5\n",
      "Loss:  2.0983903408050537\n",
      "13 | 14, 17, 09, 30, 21\n",
      "00 | 39-ть, автоновость, рельсовый, подпускать, orel\n",
      "по | убывать, немцов, %, доехать, доллар\n",
      "от | неклиновский, свинья, снегоуборочный, групп», наказывать\n",
      "14 | 13, 17, 21, 30, 20\n",
      "комсомольский | 96%, эксплуатационный, пролётный, xiv, врач-педиатр\n",
      "что | кухонный, камаз, cruiser, ермишинский, «зенит-арены»\n",
      "16 | 17, 9, 21, 30, 14\n",
      "участвовать | участие, пройти, проходить, участник, принять\n",
      "построить | строительство, планировать, объект, отремонтировать, расположить\n",
      "ul | nnov, saratov, ульяновск, происшествия>криминать, yar\n",
      "kaliningrad | происшествия>криминать, yar, volgograd, ufa, vrn\n",
      "поставить | сделать, необходимый, ставить, чтобы, задача\n",
      "точка | торговый, продукция, продавать, магазин, продажа\n",
      "пристав | судебный, уфссп, долг, должник, арестовать\n",
      "krsk | volgograd, orel, kursk, spb, происшествия>чп\n",
      "...\n",
      "\n",
      "Epoch: 2/5\n",
      "Loss:  1.818829894065857\n",
      "не | затопление, сосудистый, суши, реж, бессонов\n",
      "автомобиль | машина, иномарка, легковушка, авто, столкнуться\n",
      "также | одолжить, «университет», легальный, сидеть, открытие»\n",
      "декабрь | ик-9, карамзин, макеевка, «светлый, рой\n",
      "<left_paren> | «салават, «мармакс», маммография, президентура, складской\n",
      "область | причинение, suzuki, 74-летний, ясногорск, лёгкий\n",
      "январь | скфо, судан, разбираться, телицин, рюмка\n",
      "произойти | геноцид, «важный, ялуторовский, перрон, онлайн\n",
      "подготовка | готовиться, проведение, проходить, пройти, состояться\n",
      "приём | заявление, электронный, принимать, смочь, пункт\n",
      "ничто | неизвестно, никто, кто, нет, сей\n",
      "посетить | встреча, состояться, президент, пройти, встретиться\n",
      "пристав | судебный, должник, долг, уфссп, сотрудник\n",
      "ugra | 38, 18, tumen, 58, 22\n",
      "встречный | полоса, встречок, столкнуться, врезаться, справиться\n",
      "выделить | миллион, бюджет, миллиард, потратить, более\n",
      "...\n",
      "\n",
      "Epoch: 2/5\n",
      "Loss:  2.139866352081299\n",
      "который | задний, 720, кс, официант, депортация\n",
      "у | предлог, литер, клинико-диагностический, sony/atv, душевая\n",
      "<semicolon> | выяснение, мосгорсуд, дэниел, хулиган, задонский\n",
      "13 | 14, 18, 17, 16, 09\n",
      "сотрудник | инспектор, полицейский, гибдд, орган, служба\n",
      "получить | утверждаться, уединиться, штурмовик, неисправный, дальнеконстантиновский\n",
      "тот | гаплик, гавань, селфи, светящийся, приревновать\n",
      "весь | нация, муса, кореновский, привезти, присяжный\n",
      "каникулы | праздник, новогодний, зимний, праздничный, школьник\n",
      "правоохранительный | орган, сотрудник, правоохранитель, полицейский, подозревать\n",
      "bryansk | vrn, tula, volgograd, samara, yar\n",
      "деревня | сель, село, посёлок, трасса, гараж\n",
      "оружие | пистолет, огнестрельный, изъять, патрон, ружьё\n",
      "kaliningrad | калининград, vrn, калининградский, yar, 17\n",
      "краснодарский | край, кубань», пермский, алтайский, хабаровский\n",
      "привлечь | ответственность, привлечение, административный, привлекаться, сотрудник\n",
      "...\n",
      "\n"
     ]
    },
    {
     "name": "stdout",
     "output_type": "stream",
     "text": [
      "Epoch: 3/5\n",
      "Loss:  2.0694580078125\n",
      "область | suzuki, -саратов, причинение, 74-летний, отключаться\n",
      "декабрь | ик-9, карамзин, макеевка, 9а, «светлый\n",
      "<left_paren> | президентура, 1936, «салават, жилмассив, недвижимость>новость\n",
      "при | дача, «просто, «протон-м», еленовка, ангар\n",
      "ещё | сход, столб, жеребец, земнухов, «лады»\n",
      "– | осветительный, сковываться, струнный, объезд, выдвигаться\n",
      "<comma> | справа, 133, выпадать, мочевой, бобби\n",
      "а | совершить, направо, совершать, пятиэтажка, ноябрь\n",
      "ооо | директор, компания, предприятие, муп, оао\n",
      "занять | занимать, третье, выиграть, завоевать, победить\n",
      "ранний | обычный, поздний, когда, известно, чуть\n",
      "новгород | нижний, nnov, нижегородский, 26, 29\n",
      "вчера | сегодня, вечером, понедельник, случиться, часы\n",
      "особый | вид, внимание, режим, тёмно-русый, всегда\n",
      "подтвердить | отметить, экспертиза, заявить, сми, иностранный\n",
      "игорь | александр, сергей, вадим, владимир, глава\n",
      "...\n",
      "\n",
      "Epoch: 3/5\n",
      "Loss:  1.9958668947219849\n",
      "а | июль, направо, студентка, этаж, совершить\n",
      "место | прописка, неизгладимый, «татфондбанке», чубайс, заключать\n",
      "женщина | пенсионерка, девушка, парень, дочь, девочка\n",
      "россия | конюх, наотрез, 552, маскировка, распределять\n",
      "с | гармошка, уралочка, гамма, ангарчанин, мишкопад\n",
      "ещё | столб, сход, жеребец, лавина, земнухов\n",
      "<period> | сосредоточиться, рлс, общество>м, пятидневный, коридор\n",
      "город | вспомнить, понимать, королевский, точный, бутома»\n",
      "500 | 100, 200, 300, 1000, 400\n",
      "клиент | сбербанк, банка, кредит, услуга, банк\n",
      "построить | строительство, возвести, здание, расположить, объект\n",
      "точка | торговый, продажа, магазин, продукция, торговать\n",
      "телеканал | эфир, сми, канал, передавать, cnn\n",
      "пристав | судебный, должник, долг, уфссп, алименты\n",
      "perm | ufa, ural, vrn, spb, volgograd\n",
      "счастие | никто, спасти, пострадать, пострадавший, вот\n",
      "...\n",
      "\n",
      "Epoch: 3/5\n",
      "Loss:  2.0279083251953125\n",
      "- | опорно-двигательный, прогулочный, точность, сильно, доплата\n",
      "<semicolon> | выяснение, мосгорсуд, возводиться, дэниел, задонский\n",
      "kp | астраханский, антипают, гарантироваться, обь, 5-0\n",
      "город | «мы, слеп, вспомнить, заявить, бутома»\n",
      "на | акцент, расширение, удовлетворять, тепломагистраль, электротранспорт\n",
      "дело | завышать, существующий, разделять, налоговый, государство\n",
      "для | авиация, поздеев, передумать, персона, «россия-2018»\n",
      "пресс-служба | 2018, эпидпороговый, упоровский, планироваться, купание\n",
      "отказаться | отказ, однако, прохождение, освидетельствование, госпитализация\n",
      "плата | ул, заработный, пр-далее, 3, далее\n",
      "участвовать | участие, принять, рамка, участник, пройти\n",
      "построить | строительство, возвести, отремонтировать, строиться, объект\n",
      "игорь | сергей, александр, олег, владимир, вадим\n",
      "завершить | закончить, продолжаться, приступить, вестись, провести\n",
      "собираться | хотеть, решить, пытаться, признаться, когда\n",
      "izh | ижевск, удмуртия, ufa, kirov, yar\n",
      "...\n",
      "\n",
      "Epoch: 3/5\n",
      "Loss:  1.734811544418335\n",
      "не | затопление, перегрузка, побег, суши, мышца\n",
      "13 | 14, 16, 17, 09, 18\n",
      "комсомольский | 96%, пролётный, артрит, пускать, правота\n",
      "<period> | рлс, сосредоточиться, постельный, гутерриша, пятидневный\n",
      "<comma> | выпадать, бобби, бреннана, справа, единство\n",
      "1 | 3, 2, 4, 5, 7\n",
      "материал | тема, «одноклассниках», «происшествие, «твиттере», «дональд\n",
      "житель | секс, эвакуаторщик, онищенко, удержаться, онлайн-режим\n",
      "kaliningrad | калининград, калининградский, spb, 22, vrn\n",
      "родственник | сын, знакомый, друг, погибший, бабушка\n",
      "построить | строительство, отремонтировать, строить, появиться, здание\n",
      "встречный | полоса, врезаться, встречок, столкнуться, столкновение\n",
      "лететь | самолёт, минобороны, ту-154, сирия, упасть\n",
      "игорь | александр, сергей, павел, вадим, глава\n",
      "линия | горячий, электропередача, станция, трамвайный, движение\n",
      "портал | информационный, ссылка, сайт, электронный, издание\n",
      "...\n",
      "\n",
      "Epoch: 3/5\n",
      "Loss:  1.9619011878967285\n",
      "после | хакер, телепроект, девчата, лесу», мэй\n",
      "время | jwplayer, тырново, соседний, setup, поладить\n",
      "они | соперничество, фанатский, немцова», сумерки, плюсовой\n",
      "это | 3412, новоуренгойский, неоднозначный, «дамате», водоканал»\n",
      "уголовный | возбудить, статья, завести, расследование, подозревать\n",
      "тысяча | рх, нормализация, атаковать, сливен, внештатный\n",
      "день | резидент, «обратный, -с, дункан, тара\n",
      "под | арест, колесо, взять, стража, невыезд\n",
      "выступить | выступать, выступление, состояться, поддержать, представить\n",
      "крыша | кровля, обрушиться, обрушение, сосулька, строение\n",
      "особый | внимание, уделить, носить, режим, розовый\n",
      "хозяйство | сельский, департамент, промышленность, развитие, жкх\n",
      "вред | причинение, здоровье, тяжкий, моральный, причинить\n",
      "выплата | единовременный, пенсия, пособие, денежный, размер\n",
      "приём | заявка, приниматься, записаться, заявление, консультация\n",
      "личность | установить, подозревать, полицейский, преступление, причастный\n",
      "...\n",
      "\n",
      "Epoch: 4/5\n",
      "Loss:  2.157078266143799\n",
      "//www | сочувствовать, титул, «свой, «промышленный, ru\n",
      "произойти | починить, ток, 5», геноцид, 2017-01-26\n",
      "весь | муса, присяжный, двух-треха, накопительный, кореновский\n",
      "свой | 70-летний, неадекватно, экс-полицейский, инаугурационный, берг\n",
      "сотрудник | полицейский, инспектор, подразделение, работник, правоохранительный\n",
      "<comma> | единство, выпадать, справа, бобби, бреннана\n",
      "который | официант, 720, оленегорск, сверстник, заладиться\n",
      "два | эльвира, рожать, негде, франшиза, определиться\n",
      "народный | артист, искусство, ансамбль, театр, днр\n",
      "kaliningrad | vrn, spb, yar, калининград, bryansk\n",
      "открыться | выставка, открытие, стартовать, пройти, состояться\n",
      "пристав | судебный, должник, уфссп, долг, исполнительный\n",
      "говориться | сообщение, официальный, опубликовать, сообщаться, сайт\n",
      "заключение | заключить, рассмотрение, срок, обвинительный, суд\n",
      "русский | язык, искусство, литература, произведение, художественный\n",
      "ввести | ограничение, продлить, действовать, введение, режим\n",
      "...\n",
      "\n",
      "Epoch: 4/5\n",
      "Loss:  1.975940465927124\n",
      "происшествия>криминать | происшествия>чп, происшествия>дтп, спорт>спорт, экономика>экономик, политика>политик\n",
      "комсомольский | доставить, вид, артрит, пролётный, -34\n",
      "10 | 2016-12-22, xviii, «вектор», обгонять, урюпинский\n",
      "- | сильно, переделывать, женатый, токарь, «ростов»\n",
      "для | авиация, доклад, поздеев, персона, личный\n",
      "большой | струго-красненский, модельер, дункан, макар, варламов\n",
      "стать | неотложный, ощущение, оборудование, дресс-код, 565\n",
      "водитель | минеральный, железногорск, 25-ти, «бежать, закиров\n",
      "yamal | ugra, tumen, ямал, pskov, ryazan\n",
      "изменение | закон, повышение, решение, изменить, внесение\n",
      "facebook | twitter, instagram, «одноклассники», страница, сеть\n",
      "поймать | задержать, попасться, полицейский, вор, нарушитель\n",
      "тасс | риа, передавать, напомнить, приводить, интерфакс\n",
      "участвовать | участие, участник, проводить, проходить, поучаствовать\n",
      "тоже | же, тут, там, вот, сам\n",
      "вещество | наркотический, наркотик, свёртка, грамм, синтетический\n",
      "...\n",
      "\n",
      "Epoch: 4/5\n",
      "Loss:  1.8951188325881958\n",
      "житель | секс, эвакуаторщик, перевалить, ограничиться, онищенко\n",
      "улица | ямало-ненецкий, донсков, «правоохранительный, ухтинский, сместиться\n",
      "город | вспомнить, «мы, королевский, говорить, улетать\n",
      "ребёнок | шугай, батальный, тель-авив, костин, 365\n",
      "весь | присяжный, кос, ким, ночевать, демушкин\n",
      "ru | бочонок, тактика, 489, юлаева», цемент\n",
      "1 | 2, 3, 5, 4, 6\n",
      "также | рюмка, kul, «университет», раствор, катание\n",
      "телеканал | эфир, передавать, cnn, news, интервью\n",
      "делать | сделать, мы, понимать, я, надо\n",
      "старший | младший, помощник, отдел, возраст, отец\n",
      "perm | ural, volgograd, lipetsk, vrn, samara\n",
      "тоже | вот, же, сам, там, ни\n",
      "оружие | боеприпас, огнестрельный, патрон, пистолет, ружьё\n",
      "сентябрь | июнь, март, ноябрь, 2016, апрель\n",
      "заключение | обвинительный, суд, рассмотрение, срок, заключить\n",
      "...\n",
      "\n",
      "Epoch: 4/5\n",
      "Loss:  2.185208320617676\n",
      "под | происшествия>дтп, происшествия>чп, колесо, погибнуть, двое\n",
      "дело | освенцим, завышать, белаэс, выражать, существующий\n",
      "рассказать | сторож, электроприбор, очистить, охраняться, норовить\n",
      "<comma> | справа, бобби, единство, профессионалы», 1905\n",
      "быть | тропинка, катер, сутулиться, пляжный, ухаживать\n",
      "на | прохождение, расширение, электротранспорт, тепломагистраль, акцент\n",
      "из | интернационал, правонарушение, дпс, пляж, камаз\\\n",
      "<right_paren> | первое, полуфинальный, штурмовик, 2017-01-22, лера\n",
      "ударить | нож, грудь, убить, ссора, избить\n",
      "поставить | ставить, построить, привезти, установить, сделать\n",
      "500 | 100, 300, 1000, 700, 200\n",
      "ничто | неизвестно, нет, никто, пора, пока\n",
      "подтвердить | экспертиза, опровергнуть, рф, нет, информация\n",
      "ооо | компания, директор, предприятие, оао, фирма\n",
      "делать | сделать, мы, научить, покупать, просто\n",
      "выплата | единовременный, пенсия, пособие, денежный, ежемесячный\n",
      "...\n",
      "\n"
     ]
    },
    {
     "name": "stdout",
     "output_type": "stream",
     "text": [
      "Epoch: 4/5\n",
      "Loss:  1.9072580337524414\n",
      "область | 74-летний, suzuki, 146, отключаться, 387\n",
      "а | переброситься, категория, этаж, именитый, слободзейский\n",
      "от | мундиаля, думать, благоустраивать, нотариальный, сауна\n",
      "также | комната, беспорядочный, рюмка, «университет», крик\n",
      "но | интернет-сообщество, джейк, неэффективный, восьмимесячный, яд\n",
      "тысяча | нормализация, атаковать, рх, сливен, оповещение\n",
      "этот | посоревноваться, общенациональный, дублёнка, игнатенко, 350\n",
      "сообщать | аналитический, наслаждаться, «ладу», 40-градусный, конкурентоспособность\n",
      "kaliningrad | калининград, калининградский, spb, vrn, bryansk\n",
      "местами | прояснение, ветер, ожидаться, небольшой, гололедица\n",
      "тасс | передавать, риа, приводить, ранее, интерфакс\n",
      "оружие | огнестрельный, патрон, пистолет, боеприпас, предмет\n",
      "русский | язык, болгария, православный, народ, литература\n",
      "билет | стоимость, проездной, цена, скидка, бесплатный\n",
      "лететь | минобороны, сирия, ту-154, самолёт, сирию»\n",
      "предоставить | предоставлять, документ, указать, подложный, собственность\n",
      "...\n",
      "\n",
      "Epoch: 5/5\n",
      "Loss:  2.001817464828491\n",
      "уголовный | возбудить, статья, завести, расследование, грозить\n",
      "стать | неотложный, наркоман, дресс-код, освидетельствование, вятский\n",
      "день | усть-каменогорск, «обратный, -с, ослабление, резерв\n",
      "ещё | сход, столб, земнухов, лавина, жеребец\n",
      "тысяча | нормализация, 4852, рх, сливен, преподобный\n",
      "женщина | пенсионерка, девушка, нея, хозяйка, жительница\n",
      "россия | наблюдаться, наотрез, 2016-метр, конюх, честной\n",
      "при | «протон-м», товар, называть, «просто, ил-18\n",
      "izh | ижевск, удмуртия, kirov, ижевчан, samara\n",
      "девять | восемь, десять, семь, четыре, пять\n",
      "десять | пять, шесть, семь, три, восемь\n",
      "килограмм | вес, грамм, тонна, яблоко, происхождение\n",
      "вещество | наркотический, наркотик, синтетический, героин, грамм\n",
      "приём | записаться, зачисление, пункт, поликлиника, консультация\n",
      "собираться | хотеть, планировать, решить, когда, признаться\n",
      "участвовать | участие, поучаствовать, рамка, участник, проходить\n",
      "...\n",
      "\n",
      "Epoch: 5/5\n",
      "Loss:  1.9318370819091797\n",
      "рассказать | сторож, электроприбор, норовить, отругать, неотложка\n",
      "под | колесо, стража, невыезд, арест, подписка\n",
      "житель | экс-заместитель, секс, онищенко, перевалить, это»\n",
      "этот | посоревноваться, изымать, шоколад, игнатенко, «волга\n",
      "автомобиль | машина, иномарка, авто, легковой, легковушка\n",
      "год | травмпункт, андре, вымереть, самолечение, гормональный\n",
      "работа | 17-го, предусмотрительно, пикет, хатанга, программирование\n",
      "<quotation_mark> | 77-ть, бодрость, трудолюбивый, семья, новоуральск\n",
      "krsk | kem, perm, chel, spb, irk\n",
      "поймать | задержать, попасться, поличное, вор, преступник\n",
      "счастие | никто, пострадать, пострадавший, счастливый, крепкий\n",
      "народный | артист, заслужить, донецкий, ансамбль, творческий\n",
      "розыск | подозревать, разыскивать, задержать, преступник, скрыться\n",
      "yamal | ugra, tumen, ямал, pskov, tambov\n",
      "построить | строительство, строить, отремонтировать, возвести, реконструировать\n",
      "тоже | вот, же, <exclamation_mark>, очень, да\n",
      "...\n",
      "\n",
      "Epoch: 5/5\n",
      "Loss:  1.8145711421966553\n",
      "<semicolon> | возводиться, 1а, судебно-психиатрический, мосгорсуд, стен\n",
      "который | официант, 720, задний, «лексусе», сунуть\n",
      "для | авиация, доклад, персона, поздеев, мереть\n",
      "россия | 8%, честной, 2016-метр, подействовать, конюх\n",
      "год | травмпункт, андре, вымереть, самолечение, гормональный\n",
      "мужчина | разыскивать, индиана, логистика, дженнифер, вифлеемский\n",
      "тот | гаплик, максимов, ким, спецслужба, псевдоним\n",
      "после | девчата, лесу», испытывать, секция, уза\n",
      "izh | ижевск, удмуртия, kirov, ryazan, omsk\n",
      "ранний | поздний, утром, назад, инфаркт, часто\n",
      "krsk | kem, perm, chel, spb, irk\n",
      "собираться | хотеть, чтобы, планировать, потому, решить\n",
      "привести | из-за, возникнуть, причина, спровоцировать, считать\n",
      "ленин | ул, пр, проспект, площадь, красноармейский\n",
      "розыск | подозревать, задержать, разыскивать, ориентировка, полицейский\n",
      "подготовка | готовиться, проведение, предстоящий, посвятить, мероприятие\n",
      "...\n",
      "\n",
      "Epoch: 5/5\n",
      "Loss:  1.8525785207748413\n",
      "//www | манеж, камаз\\, «промышленный, ангарский, котельнич\n",
      "тысяча | нормализация, 4852, сливен, рх, атаковать\n",
      "область | suzuki, 146, 74-летний, являться, отключаться\n",
      "на | закрыться, «макдональдс», тепломагистраль, 23-ха, виток\n",
      "у | клубный, безвозмездно, 213, белых, ассоциироваться\n",
      "один | танцор, обогреваться, компактный, реанимобиль, обитаемый\n",
      "к | тяжело, похоронный, «эволюция, платон, исаакий\n",
      "но | интернет-сообщество, джейк, яд, неэффективный, восьмимесячный\n",
      "ооо | компания, оао, фирма, предприятие, завод\n",
      "поймать | задержать, попасться, вор, поличное, пьяный\n",
      "родственник | близкие, семья, погибший, знакомый, родные\n",
      "линия | горячий, электропередача, пункт, линии», обрыв\n",
      "русский | язык, литература, английский, православный, церковь\n",
      "ничто | неизвестно, нет, хотя, просто, никто\n",
      "поделиться | </>, xhtml-код, видео, }, aspectratio\n",
      "собираться | планировать, хотеть, решить, готовый, намерить\n",
      "...\n",
      "\n"
     ]
    }
   ],
   "source": [
    "import Skipgram\n",
    "import Negsamp\n",
    "\n",
    "# Unfortunately only have cpu\n",
    "device = 'cpu'\n",
    "\n",
    "#device = 'cuda' if torch.cuda.is_available() else 'cpu'\n",
    "\n",
    "# Get our noise distribution\n",
    "# Using word frequencies calculated earlier in the notebook\n",
    "word_freqs = np.array(sorted(freqs.values(), reverse=True))\n",
    "unigram_dist = word_freqs/word_freqs.sum()\n",
    "noise_dist = torch.from_numpy(unigram_dist**(0.75)/np.sum(unigram_dist**(0.75)))\n",
    "\n",
    "# instantiating the model\n",
    "embedding_dim = 300\n",
    "model = Skipgram.SkipGramNeg(len(vocab_to_int), embedding_dim, noise_dist=noise_dist).to(device)\n",
    "\n",
    "# using the loss that we defined\n",
    "criterion = Negsamp.NegativeSamplingLoss() \n",
    "optimizer = optim.Adam(model.parameters(), lr=0.003)\n",
    "\n",
    "print_every = 1500\n",
    "steps = 0\n",
    "epochs = 5\n",
    "\n",
    "# train for some number of epochs\n",
    "for e in range(epochs):\n",
    "    \n",
    "    # get our input, target batches\n",
    "    for input_words, target_words in get_batches(train_words, 512):\n",
    "        steps += 1\n",
    "        inputs, targets = torch.LongTensor(input_words), torch.LongTensor(target_words)\n",
    "        inputs, targets = inputs.to(device), targets.to(device)\n",
    "        \n",
    "        # input, outpt, and noise vectors\n",
    "        input_vectors = model.forward_input(inputs)\n",
    "        output_vectors = model.forward_output(targets)\n",
    "        noise_vectors = model.forward_noise(inputs.shape[0], 5)\n",
    "\n",
    "        # negative sampling loss\n",
    "        loss = criterion(input_vectors, output_vectors, noise_vectors)\n",
    "\n",
    "        optimizer.zero_grad()\n",
    "        loss.backward()\n",
    "        optimizer.step()\n",
    "\n",
    "        # loss stats\n",
    "        if steps % print_every == 0:\n",
    "            print(\"Epoch: {}/{}\".format(e+1, epochs))\n",
    "            print(\"Loss: \", loss.item()) # avg batch loss at this point in training\n",
    "            valid_examples, valid_similarities = cosine_similarity(model.in_embed, device=device)\n",
    "            _, closest_idxs = valid_similarities.topk(6)\n",
    "\n",
    "            valid_examples, closest_idxs = valid_examples.to('cpu'), closest_idxs.to('cpu')\n",
    "            for ii, valid_idx in enumerate(valid_examples):\n",
    "                closest_words = [int_to_vocab[idx.item()] for idx in closest_idxs[ii]][1:]\n",
    "                print(int_to_vocab[valid_idx.item()] + \" | \" + ', '.join(closest_words))\n",
    "            print(\"...\\n\")"
   ]
  },
  {
   "cell_type": "markdown",
   "metadata": {},
   "source": [
    "## Visualizing the word vectors\n",
    "\n",
    "Below we'll use T-SNE to visualize how our high-dimensional word vectors cluster together. T-SNE is used to project these vectors into two dimensions while preserving local stucture."
   ]
  },
  {
   "cell_type": "code",
   "execution_count": 98,
   "metadata": {},
   "outputs": [],
   "source": [
    "%matplotlib inline\n",
    "%config InlineBackend.figure_format = 'retina'\n",
    "\n",
    "import matplotlib.pyplot as plt\n",
    "from sklearn.manifold import TSNE"
   ]
  },
  {
   "cell_type": "code",
   "execution_count": 99,
   "metadata": {},
   "outputs": [],
   "source": [
    "# getting embeddings from the embedding layer of our model, by name\n",
    "embeddings = model.in_embed.weight.to('cpu').data.numpy()\n",
    "# saving all our embeddings in file\n",
    "np.savetxt('embeddings.txt',embeddings)"
   ]
  },
  {
   "cell_type": "code",
   "execution_count": 102,
   "metadata": {},
   "outputs": [],
   "source": [
    "viz_words = 100\n",
    "tsne = TSNE()\n",
    "embed_tsne = tsne.fit_transform(embeddings[:viz_words, :])"
   ]
  },
  {
   "cell_type": "code",
   "execution_count": 103,
   "metadata": {
    "scrolled": true
   },
   "outputs": [
    {
     "data": {
      "image/png": "[encoded data removed]",
      "text/plain": [
       "<Figure size 1152x1152 with 1 Axes>"
      ]
     },
     "metadata": {
      "image/png": {
       "height": 900,
       "width": 947
      },
      "needs_background": "light"
     },
     "output_type": "display_data"
    }
   ],
   "source": [
    "fig, ax = plt.subplots(figsize=(16, 16))\n",
    "for idx in range(viz_words):\n",
    "    plt.scatter(*embed_tsne[idx, :], color='steelblue')\n",
    "    plt.annotate(int_to_vocab[idx], (embed_tsne[idx, 0], embed_tsne[idx, 1]), alpha=0.7)"
   ]
  },
  {
   "cell_type": "markdown",
   "metadata": {},
   "source": [
    "## Preprocessing of test data\n"
   ]
  },
  {
   "cell_type": "code",
   "execution_count": 407,
   "metadata": {},
   "outputs": [
    {
     "data": {
      "text/html": [
       "<div>\n",
       "<style scoped>\n",
       "    .dataframe tbody tr th:only-of-type {\n",
       "        vertical-align: middle;\n",
       "    }\n",
       "\n",
       "    .dataframe tbody tr th {\n",
       "        vertical-align: top;\n",
       "    }\n",
       "\n",
       "    .dataframe thead th {\n",
       "        text-align: right;\n",
       "    }\n",
       "</style>\n",
       "<table border=\"1\" class=\"dataframe\">\n",
       "  <thead>\n",
       "    <tr style=\"text-align: right;\">\n",
       "      <th></th>\n",
       "      <th>index</th>\n",
       "      <th>text</th>\n",
       "      <th>topic</th>\n",
       "    </tr>\n",
       "  </thead>\n",
       "  <tbody>\n",
       "    <tr>\n",
       "      <th>0</th>\n",
       "      <td>0</td>\n",
       "      <td>Вице-премьер по социальным вопросам Татьяна Го...</td>\n",
       "      <td>Россия</td>\n",
       "    </tr>\n",
       "    <tr>\n",
       "      <th>1</th>\n",
       "      <td>1</td>\n",
       "      <td>Австрийские правоохранительные органы не предс...</td>\n",
       "      <td>Спорт</td>\n",
       "    </tr>\n",
       "    <tr>\n",
       "      <th>2</th>\n",
       "      <td>2</td>\n",
       "      <td>Сотрудники социальной сети Instagram проанализ...</td>\n",
       "      <td>Путешествия</td>\n",
       "    </tr>\n",
       "    <tr>\n",
       "      <th>3</th>\n",
       "      <td>3</td>\n",
       "      <td>С начала расследования российского вмешательст...</td>\n",
       "      <td>Мир</td>\n",
       "    </tr>\n",
       "    <tr>\n",
       "      <th>4</th>\n",
       "      <td>4</td>\n",
       "      <td>Хакерская группировка Anonymous опубликовала н...</td>\n",
       "      <td>Мир</td>\n",
       "    </tr>\n",
       "  </tbody>\n",
       "</table>\n",
       "</div>"
      ],
      "text/plain": [
       "   index                                               text        topic\n",
       "0      0  Вице-премьер по социальным вопросам Татьяна Го...       Россия\n",
       "1      1  Австрийские правоохранительные органы не предс...        Спорт\n",
       "2      2  Сотрудники социальной сети Instagram проанализ...  Путешествия\n",
       "3      3  С начала расследования российского вмешательст...          Мир\n",
       "4      4  Хакерская группировка Anonymous опубликовала н...          Мир"
      ]
     },
     "execution_count": 407,
     "metadata": {},
     "output_type": "execute_result"
    }
   ],
   "source": [
    "import pandas as pd\n",
    "import numpy as np\n",
    "# reading our data \n",
    "data = pd.read_csv('Data/lenta-ru-news.csv')\n",
    "# deleting nan values from data\n",
    "data = data.dropna()\n",
    "data = data.reset_index()\n",
    "# we will need only texts and topics\n",
    "data = data[['text','topic']]\n",
    "\n",
    "\n",
    "data.head()"
   ]
  },
  {
   "cell_type": "code",
   "execution_count": 409,
   "metadata": {},
   "outputs": [],
   "source": [
    "# making topic-label dictionary \n",
    "unique_topics = data['topic'].unique()\n",
    "\n",
    "di = {unique_topics[i] : i for i in range(len(unique_topics))}\n",
    "\n",
    "data = data.replace({'topic':di})"
   ]
  },
  {
   "cell_type": "code",
   "execution_count": 592,
   "metadata": {},
   "outputs": [
    {
     "name": "stdout",
     "output_type": "stream",
     "text": [
      "class № 0    160516\n",
      "class № 1    64421\n",
      "class № 2    6408\n",
      "class № 3    136679\n",
      "class № 4    53402\n",
      "class № 5    44675\n",
      "class № 6    19596\n",
      "class № 7    79538\n",
      "class № 8    53802\n",
      "class № 9    21734\n",
      "class № 10    53136\n",
      "class № 11    27611\n",
      "class № 12    7766\n",
      "class № 13    7399\n",
      "class № 14    1268\n",
      "class № 15    340\n",
      "class № 16    666\n",
      "class № 17    0\n",
      "class № 18    0\n",
      "class № 19    0\n",
      "class № 20    0\n",
      "class № 21    0\n",
      "class № 22    0\n"
     ]
    }
   ],
   "source": [
    "# Checking the quantity of texts for each topic in data\n",
    "for i in range(len(unique_topics)):\n",
    "    is_i = data['topic']==i\n",
    "    topic_i = data[is_i]\n",
    "    print(\"class №\", i, \"  \", topic_i.shape[0])"
   ]
  },
  {
   "cell_type": "code",
   "execution_count": 410,
   "metadata": {},
   "outputs": [],
   "source": [
    "# deleting very small classes (classes 17-22 have much less texts than others)\n",
    "for i in range(23):\n",
    "    topic_i = data[data['topic']==i]\n",
    "    if topic_i.shape[0] < 150:\n",
    "        data = data[data.topic != i]\n",
    "        \n",
    "data = data.reset_index()\n",
    "\n",
    "data = data[['text','topic']]"
   ]
  },
  {
   "cell_type": "code",
   "execution_count": 558,
   "metadata": {},
   "outputs": [
    {
     "data": {
      "text/plain": [
       "17"
      ]
     },
     "execution_count": 558,
     "metadata": {},
     "output_type": "execute_result"
    }
   ],
   "source": [
    "from sklearn.utils import shuffle\n",
    "# shuffling our data \n",
    "shuffled_data = shuffle(data)\n",
    "\n",
    "# We can't work with the whole dataset here\n",
    "small_data = shuffled_data[:30000]\n",
    "\n",
    "small_data = small_data.reset_index()\n",
    "\n",
    "small_data = small_data[['text','topic']]\n",
    "\n",
    "np_texts = small_data['text'].values\n",
    "targets = small_data['topic'].values"
   ]
  },
  {
   "cell_type": "code",
   "execution_count": 563,
   "metadata": {},
   "outputs": [
    {
     "data": {
      "application/vnd.jupyter.widget-view+json": {
       "model_id": "cc1b847361d24fe1807ccd0b037e54b0",
       "version_major": 2,
       "version_minor": 0
      },
      "text/plain": [
       "HBox(children=(IntProgress(value=0, max=30000), HTML(value='')))"
      ]
     },
     "metadata": {},
     "output_type": "display_data"
    }
   ],
   "source": [
    "import utils\n",
    "from tqdm import tqdm_notebook\n",
    "# tokenizing texts \n",
    "tokenized_texts = []\n",
    "\n",
    "for text in tqdm_notebook(np_texts):\n",
    "    tokenized = utils.preprocess(text, big=False)\n",
    "    tokenized_texts.append(tokenized)\n",
    "    "
   ]
  },
  {
   "cell_type": "code",
   "execution_count": 573,
   "metadata": {},
   "outputs": [],
   "source": [
    "import json\n",
    "# saving all our tokens in file\n",
    "with open('test_tokens.txt', 'w') as f:\n",
    "    json.dump(tokenized_texts, f)"
   ]
  },
  {
   "cell_type": "code",
   "execution_count": 565,
   "metadata": {},
   "outputs": [],
   "source": [
    "def embedding_mean(text):\n",
    "    ''' Counts mean embedding of text  '''\n",
    "    \n",
    "    return np.array([embeddings[vocab_to_int[word]] for word in text if word in set_words]).mean(axis=0)\n",
    "\n"
   ]
  },
  {
   "cell_type": "code",
   "execution_count": 566,
   "metadata": {},
   "outputs": [
    {
     "data": {
      "application/vnd.jupyter.widget-view+json": {
       "model_id": "51f2fd4de9f04b11b40b95935f0f1902",
       "version_major": 2,
       "version_minor": 0
      },
      "text/plain": [
       "HBox(children=(IntProgress(value=0, max=30000), HTML(value='')))"
      ]
     },
     "metadata": {},
     "output_type": "display_data"
    },
    {
     "name": "stderr",
     "output_type": "stream",
     "text": [
      "//anaconda3/lib/python3.7/site-packages/ipykernel_launcher.py:4: RuntimeWarning: Mean of empty slice.\n",
      "  after removing the cwd from sys.path.\n",
      "//anaconda3/lib/python3.7/site-packages/numpy/core/_methods.py:85: RuntimeWarning: invalid value encountered in double_scalars\n",
      "  ret = ret.dtype.type(ret / rcount)\n"
     ]
    }
   ],
   "source": [
    "# loading embeddings and tokens from our files\n",
    "embeddings = np.loadtxt('embeddings.txt')\n",
    "\n",
    "with open('words.txt') as f:\n",
    "    words = json.load(f)\n",
    "\n",
    "with open('test_tokens.txt') as f:\n",
    "    test_tokens = json.load(f)\n",
    "\n",
    "# count our mean embeddings    \n",
    "set_words = set(words)\n",
    "mean_embeddings = []\n",
    "\n",
    "for bunch in tqdm_notebook(test_tokens):\n",
    "    mean = embedding_mean(bunch)\n",
    "    if np.isnan(mean).any():\n",
    "        mean_embeddings.append(np.zeros((embedding_dim,)))\n",
    "    else:\n",
    "        mean_embeddings.append(mean)"
   ]
  },
  {
   "cell_type": "markdown",
   "metadata": {},
   "source": [
    "## Classification \n",
    "\n",
    "We will do our classification with SGD Classifier, using our mean embeddings as features and topic labels as classes."
   ]
  },
  {
   "cell_type": "code",
   "execution_count": 601,
   "metadata": {},
   "outputs": [],
   "source": [
    "from sklearn.model_selection import train_test_split\n",
    "\n",
    "X_train, X_test, y_train, y_test = train_test_split(mean_embeddings, targets, test_size = 0.2, random_state = 42, \n",
    "                                                    stratify = targets)"
   ]
  },
  {
   "cell_type": "code",
   "execution_count": 602,
   "metadata": {},
   "outputs": [
    {
     "data": {
      "text/plain": [
       "SGDClassifier(alpha=0.0001, average=False, class_weight=None,\n",
       "              early_stopping=False, epsilon=0.1, eta0=0.0, fit_intercept=True,\n",
       "              l1_ratio=0.15, learning_rate='optimal', loss='hinge',\n",
       "              max_iter=1000, n_iter_no_change=5, n_jobs=None, penalty='l2',\n",
       "              power_t=0.5, random_state=None, shuffle=True, tol=0.001,\n",
       "              validation_fraction=0.1, verbose=0, warm_start=False)"
      ]
     },
     "execution_count": 602,
     "metadata": {},
     "output_type": "execute_result"
    }
   ],
   "source": [
    "from sklearn.linear_model import SGDClassifier\n",
    "clf = SGDClassifier()\n",
    "# train the classifier\n",
    "clf.fit(X_train, y_train)"
   ]
  },
  {
   "cell_type": "code",
   "execution_count": 603,
   "metadata": {},
   "outputs": [
    {
     "name": "stdout",
     "output_type": "stream",
     "text": [
      "Train Accuracy: 0.74\n"
     ]
    }
   ],
   "source": [
    "from sklearn import metrics\n",
    "# predict targets\n",
    "y_train_pred = clf.predict(X_train)\n",
    "print(\"Train Accuracy: {}\".format(round(metrics.accuracy_score(y_train, y_train_pred),2)))"
   ]
  },
  {
   "cell_type": "code",
   "execution_count": 604,
   "metadata": {},
   "outputs": [
    {
     "name": "stdout",
     "output_type": "stream",
     "text": [
      "Test Accuracy: 0.72\n"
     ]
    }
   ],
   "source": [
    "y_pred = clf.predict(X_test)\n",
    "print(\"Test Accuracy: {}\".format(round(metrics.accuracy_score(y_test, y_pred),2)))"
   ]
  },
  {
   "cell_type": "code",
   "execution_count": 609,
   "metadata": {},
   "outputs": [],
   "source": [
    "# saving true test classes\n",
    "np.savetxt('results/y_test.txt',y_test)\n",
    "    \n",
    "# saving our predictions\n",
    "np.savetxt('results/y_pred.txt',y_pred)\n",
    "    \n"
   ]
  },
  {
   "cell_type": "code",
   "execution_count": null,
   "metadata": {},
   "outputs": [],
   "source": []
  }
 ],
 "metadata": {
  "kernelspec": {
   "display_name": "Python 3",
   "language": "python",
   "name": "python3"
  },
  "language_info": {
   "codemirror_mode": {
    "name": "ipython",
    "version": 3
   },
   "file_extension": ".py",
   "mimetype": "text/x-python",
   "name": "python",
   "nbconvert_exporter": "python",
   "pygments_lexer": "ipython3",
   "version": "3.7.4"
  }
 },
 "nbformat": 4,
 "nbformat_minor": 2
}
